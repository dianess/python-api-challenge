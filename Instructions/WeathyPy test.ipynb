{
 "cells": [
  {
   "cell_type": "code",
   "execution_count": 9,
   "metadata": {},
   "outputs": [],
   "source": [
    "# Dependencies and Setup\n",
    "import openweathermapy.core as owm\n",
    "import matplotlib.pyplot as plt\n",
    "import pandas as pd\n",
    "import numpy as np\n",
    "import requests\n",
    "import time\n",
    "\n",
    "# Import API key\n",
    "#from api_keys import api_key\n",
    "api_key = \"d6cdef50ec164127402f7834412b911b\"\n",
    "\n",
    "# Incorporated citipy to determine city based on latitude and longitude\n",
    "from citipy import citipy\n",
    "\n",
    "# Output File (CSV)\n",
    "#output_data_file = \"output_data/cities.csv\"\n",
    "\n",
    "# Range of latitudes and longitudes\n",
    "lat_range = (-90, 90)\n",
    "lng_range = (-180, 180)"
   ]
  },
  {
   "cell_type": "code",
   "execution_count": 10,
   "metadata": {},
   "outputs": [],
   "source": [
    "# URL and units\n",
    "url = \"http://api.openweathermap.org/data/2.5/weather?\"\n",
    "units = \"imperial\""
   ]
  },
  {
   "cell_type": "code",
   "execution_count": 11,
   "metadata": {},
   "outputs": [],
   "source": [
    "# Build partial query URL\n",
    "query_url = f\"{url}appid={api_key}&units={units}&q=\""
   ]
  },
  {
   "cell_type": "code",
   "execution_count": 4,
   "metadata": {},
   "outputs": [
    {
     "name": "stdout",
     "output_type": "stream",
     "text": [
      "Longitude: [-82.48, -84.39]\n",
      "Latitude: [34.62, 33.75]\n",
      "Pressure: [1013, 1014]\n",
      "Humidity: [68, 73]\n",
      "Max Temp: [72, 75.2]\n",
      "Wind Speed: [3.96, 3.56]\n",
      "Cloudiness: [1, 1]\n",
      "City Number: [800, 800]\n",
      "City Name: ['Williamston', 'Atlanta']\n",
      "Country: ['US', 'US']\n",
      "Date: [1569472429, 1569472396]\n"
     ]
    }
   ],
   "source": [
    "# list of cities to query\n",
    "cities1 = [\"williamston\", \"atlanta\"]\n",
    "\n",
    "# list for response results\n",
    "lat = []\n",
    "lon = []\n",
    "pressure = []\n",
    "humidity = []\n",
    "temp_max = []\n",
    "wind = []\n",
    "cloudiness = []\n",
    "city_number = []\n",
    "city_name = []\n",
    "country = []\n",
    "date = []\n",
    "\n",
    "# loop through cities, make API request, and append desired results\n",
    "for city in cities1:\n",
    "    response = requests.get(query_url + city).json()\n",
    "    lon.append(response['coord']['lon'])\n",
    "    lat.append(response['coord']['lat'])\n",
    "    pressure.append(response['main']['pressure'])\n",
    "    humidity.append(response['main']['humidity'])\n",
    "    temp_max.append(response['main']['temp_max'])\n",
    "    wind.append(response['wind']['speed'])\n",
    "    cloudiness.append(response['clouds']['all'])\n",
    "    city_number.append(response['weather'][0]['id'])\n",
    "    city_name.append(response['name'])\n",
    "    country.append(response['sys']['country'])\n",
    "    date.append(response['dt'])\n",
    "\n",
    "print(f\"Longitude: {lon}\")\n",
    "print(f\"Latitude: {lat}\")\n",
    "print(f\"Pressure: {pressure}\")\n",
    "print(f\"Humidity: {humidity}\")\n",
    "print(f\"Max Temp: {temp_max}\")\n",
    "print(f\"Wind Speed: {wind}\")\n",
    "print(f\"Cloudiness: {cloudiness}\")\n",
    "print(f\"City Number: {city_number}\")\n",
    "print(f\"City Name: {city_name}\")\n",
    "print(f\"Country: {country}\")\n",
    "print(f\"Date: {date}\")"
   ]
  },
  {
   "cell_type": "code",
   "execution_count": 27,
   "metadata": {},
   "outputs": [
    {
     "name": "stdout",
     "output_type": "stream",
     "text": [
      "626\n"
     ]
    }
   ],
   "source": [
    "# List for holding lat_lngs and cities\n",
    "lat_lngs = []\n",
    "cities = []\n",
    "\n",
    "# Create a set of random lat and lng combinations\n",
    "lats = np.random.uniform(low=-90.000, high=90.000, size=1500)\n",
    "lngs = np.random.uniform(low=-180.000, high=180.000, size=1500)\n",
    "lat_lngs = zip(lats, lngs)\n",
    "\n",
    "# Identify nearest city for each lat, lng combination\n",
    "for lat_lng in lat_lngs:\n",
    "    city = citipy.nearest_city(lat_lng[0], lat_lng[1]).city_name\n",
    "    \n",
    "    # If the city is unique, then add it to a our cities list\n",
    "    if city not in cities:\n",
    "        # Remove city names that contain numbers\n",
    "        [city for city in cities if all(digit not in city for digit in \"1234567890\")]\n",
    "        cities.append(city)\n",
    "\n",
    "# Print the city count to confirm sufficient count\n",
    "print(len(cities))"
   ]
  },
  {
   "cell_type": "code",
   "execution_count": null,
   "metadata": {},
   "outputs": [],
   "source": []
  },
  {
   "cell_type": "code",
   "execution_count": null,
   "metadata": {},
   "outputs": [],
   "source": []
  },
  {
   "cell_type": "code",
   "execution_count": 28,
   "metadata": {},
   "outputs": [],
   "source": [
    "# lists for response results\n",
    "lat = []\n",
    "lon = []\n",
    "humidity = []\n",
    "temp_max = []\n",
    "wind = []\n",
    "cloudiness = []\n",
    "city_number = []\n",
    "city_name = []\n",
    "country = []\n",
    "date = []\n",
    "\n",
    "# loop through cities, make API request, and append desired results\n",
    "for city in cities:\n",
    "    response = requests.get(query_url + city).json()\n",
    "    try:\n",
    "        lon.append(response['coord']['lon'])\n",
    "        lat.append(response['coord']['lat'])\n",
    "        humidity.append(response['main']['humidity'])\n",
    "        temp_max.append(response['main']['temp_max'])\n",
    "        wind.append(response['wind']['speed'])\n",
    "        cloudiness.append(response['clouds']['all'])\n",
    "        city_number.append(response['weather'][0]['id'])\n",
    "        city_name.append(response['name'])\n",
    "        country.append(response['sys']['country'])\n",
    "        date.append(response['dt'])\n",
    "    except (KeyError, ValueError, TypeError):\n",
    "        cities.remove(city)\n"
   ]
  },
  {
   "cell_type": "code",
   "execution_count": 29,
   "metadata": {},
   "outputs": [
    {
     "name": "stdout",
     "output_type": "stream",
     "text": [
      "Cities: 569\n",
      "Lng 512\n",
      "Lat 512\n",
      "Hum 512\n",
      "temp 512\n",
      "wind 512\n",
      "cld 512\n",
      "# 512\n",
      "name 512\n",
      "country 512\n",
      "date 512\n"
     ]
    }
   ],
   "source": [
    "print('Cities:', len(cities))\n",
    "print('Lng', len(lon))\n",
    "print('Lat', len(lat))\n",
    "print('Hum', len(humidity))\n",
    "print('temp', len(temp_max))\n",
    "print('wind', len(wind))\n",
    "print('cld', len(cloudiness))\n",
    "print('#', len(city_number))\n",
    "print('name', len(city_name))\n",
    "print('country', len(country))\n",
    "print('date', len(date))\n"
   ]
  },
  {
   "cell_type": "code",
   "execution_count": 24,
   "metadata": {},
   "outputs": [
    {
     "data": {
      "text/plain": [
       "\"\\ncities_df['Country']= country\\ncities_df['Max Temp']= temp_max\\ncities_df['Cloudiness']= cloudiness\\ncities_df['Humidity']= humidity\\ncities_df['Wind Speed']= wind\\ncities_df['Latitude']= lat\\ncities_df['Longitude']= lon\\ncities_df['Date']= date\\n\\ncities_df.head()\\n\""
      ]
     },
     "execution_count": 24,
     "metadata": {},
     "output_type": "execute_result"
    }
   ],
   "source": [
    "\n",
    "# Create dataframe\n",
    "cities_df = pd.DataFrame({'City': cities})\n",
    "'''\n",
    "cities_df['Country']= country\n",
    "cities_df['Max Temp']= temp_max\n",
    "cities_df['Cloudiness']= cloudiness\n",
    "cities_df['Humidity']= humidity\n",
    "cities_df['Wind Speed']= wind\n",
    "cities_df['Latitude']= lat\n",
    "cities_df['Longitude']= lon\n",
    "cities_df['Date']= date\n",
    "\n",
    "cities_df.head()\n",
    "'''"
   ]
  },
  {
   "cell_type": "code",
   "execution_count": 26,
   "metadata": {},
   "outputs": [],
   "source": [
    "# Save dataframe to csv file\n",
    "cities_df.to_csv(\"cities_python_api.csv\", encoding=\"utf-8\", index=False)"
   ]
  },
  {
   "cell_type": "code",
   "execution_count": null,
   "metadata": {},
   "outputs": [],
   "source": []
  },
  {
   "cell_type": "code",
   "execution_count": null,
   "metadata": {},
   "outputs": [],
   "source": []
  }
 ],
 "metadata": {
  "kernelspec": {
   "display_name": "Python 3",
   "language": "python",
   "name": "python3"
  },
  "language_info": {
   "codemirror_mode": {
    "name": "ipython",
    "version": 3
   },
   "file_extension": ".py",
   "mimetype": "text/x-python",
   "name": "python",
   "nbconvert_exporter": "python",
   "pygments_lexer": "ipython3",
   "version": "3.7.3"
  }
 },
 "nbformat": 4,
 "nbformat_minor": 2
}
