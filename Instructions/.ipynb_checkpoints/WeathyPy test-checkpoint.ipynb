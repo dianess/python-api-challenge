{
 "cells": [
  {
   "cell_type": "code",
   "execution_count": 1,
   "metadata": {},
   "outputs": [],
   "source": [
    "# Dependencies and Setup\n",
    "import openweathermapy.core as owm\n",
    "import matplotlib.pyplot as plt\n",
    "import pandas as pd\n",
    "import numpy as np\n",
    "import requests\n",
    "import time\n",
    "\n",
    "# Import API key\n",
    "#from api_keys import api_key\n",
    "api_key = \"d6cdef50ec164127402f7834412b911b\"\n",
    "\n",
    "# Incorporated citipy to determine city based on latitude and longitude\n",
    "from citipy import citipy\n",
    "\n",
    "# Output File (CSV)\n",
    "#output_data_file = \"output_data/cities.csv\"\n",
    "\n",
    "# Range of latitudes and longitudes\n",
    "lat_range = (-90, 90)\n",
    "lng_range = (-180, 180)"
   ]
  },
  {
   "cell_type": "code",
   "execution_count": 2,
   "metadata": {},
   "outputs": [],
   "source": [
    "# URL and units\n",
    "url = \"http://api.openweathermap.org/data/2.5/weather?\"\n",
    "units = \"imperial\""
   ]
  },
  {
   "cell_type": "code",
   "execution_count": 3,
   "metadata": {},
   "outputs": [],
   "source": [
    "# Build partial query URL\n",
    "query_url = f\"{url}appid={api_key}&units={units}&q=\""
   ]
  },
  {
   "cell_type": "code",
   "execution_count": 8,
   "metadata": {},
   "outputs": [
    {
     "name": "stdout",
     "output_type": "stream",
     "text": [
      "Longitude: [-82.48, -84.39]\n",
      "Latitude: [34.62, 33.75]\n",
      "Pressure: [1012, 1012]\n",
      "Humidity: [31, 35]\n",
      "Max Temp: [93, 93.2]\n",
      "Wind Speed: [2.42, 6.93]\n",
      "Cloudiness: [1, 1]\n",
      "City Number: [800, 800]\n",
      "City Name: ['Williamston', 'Atlanta']\n",
      "Country: ['US', 'US']\n",
      "Date: [1569447146, 1569447006]\n"
     ]
    }
   ],
   "source": [
    "# list of cities to query\n",
    "cities1 = [\"williamston\", \"atlanta\"]\n",
    "\n",
    "# list for response results\n",
    "lat = []\n",
    "lon = []\n",
    "pressure = []\n",
    "humidity = []\n",
    "temp_max = []\n",
    "wind = []\n",
    "cloudiness = []\n",
    "city_number = []\n",
    "city_name = []\n",
    "country = []\n",
    "date = []\n",
    "\n",
    "# loop through cities, make API request, and append desired results\n",
    "for city in cities1:\n",
    "    response = requests.get(query_url + city).json()\n",
    "    lon.append(response['coord']['lon'])\n",
    "    lat.append(response['coord']['lat'])\n",
    "    pressure.append(response['main']['pressure'])\n",
    "    humidity.append(response['main']['humidity'])\n",
    "    temp_max.append(response['main']['temp_max'])\n",
    "    wind.append(response['wind']['speed'])\n",
    "    cloudiness.append(response['clouds']['all'])\n",
    "    city_number.append(response['weather'][0]['id'])\n",
    "    city_name.append(response['name'])\n",
    "    country.append(response['sys']['country'])\n",
    "    date.append(response['dt'])\n",
    "\n",
    "print(f\"Longitude: {lon}\")\n",
    "print(f\"Latitude: {lat}\")\n",
    "print(f\"Pressure: {pressure}\")\n",
    "print(f\"Humidity: {humidity}\")\n",
    "print(f\"Max Temp: {temp_max}\")\n",
    "print(f\"Wind Speed: {wind}\")\n",
    "print(f\"Cloudiness: {cloudiness}\")\n",
    "print(f\"City Number: {city_number}\")\n",
    "print(f\"City Name: {city_name}\")\n",
    "print(f\"Country: {country}\")\n",
    "print(f\"Date: {date}\")"
   ]
  },
  {
   "cell_type": "code",
   "execution_count": 15,
   "metadata": {},
   "outputs": [
    {
     "name": "stdout",
     "output_type": "stream",
     "text": [
      "['dikson', 'qaanaaq', 'bellavista', 'baldeogarh', 'talnakh', 'severo-kurilsk', 'castro', 'aflu', 'ossora', 'kenai', 'mataura', 'puerto ayora', 'sao felix do xingu', 'tuktoyaktuk', 'meyungs', 'nikolskoye', 'dawlatabad', 'ushuaia', 'awash', 'jamestown', 'zhuzhou', 'rungata', 'port elizabeth', 'sentyabrskiy', 'kutina', 'tura', 'busselton', 'avarua', 'new norfolk', 'hermanus', 'kaman', 'bredasdorp', 'torbay', 'iracoubo', 'mahebourg', 'cape town', 'itupiranga', 'hilo', 'yellowknife', 'bengkulu', 'cidreira', 'provideniya', 'anadyr', 'georgetown', 'rikitea', 'lagoa', 'formosa', 'kopavogur', 'puerto escondido', 'ponta do sol', 'zabol', 'matagami', 'barentsburg', 'puri', 'gerash', 'amalapuram', 'hobart', 'punta arenas', 'kegayli', 'iqaluit', 'albany', 'sorland', 'longyearbyen', 'longlac', 'syriam', 'soyo', 'zapolyarnyy', 'taolanaro', 'san quintin', 'mahadday weyne', 'ruatoria', 'east london', 'vaini', 'dabat', 'victoria', 'kodiak', 'eyl', 'riyadh', 'corinto', 'khatanga', 'carnarvon', 'alice springs', 'kapaa', 'madang', 'sorvag', 'chokurdakh', 'jishu', 'pokhara', 'nizwa', 'saskylakh', 'praia da vitoria', 'arraial do cabo', 'bethel', 'los llanos de aridane', 'upernavik', 'kotelnikovo', 'statesboro', 'la romana', 'illoqqortoormiut', 'madras', 'atuona', 'mar del plata', 'cayenne', 'eldikan', 'dunda', 'ostrovnoy', 'grand gaube', 'geraldton', 'inuvik', 'carutapera', 'nome', 'saleaula', 'hithadhoo', 'along', 'ribeira grande', 'narsaq', 'fairbanks', 'praia', 'husavik', 'valparaiso', 'barcelona', 'vardo', 'hami', 'vaitupu', 'kinablangan', 'lavrentiya', 'orlovskiy', 'sulangan', 'inirida', 'sargatskoye', 'bonavista', 'havelock', 'ketchikan', 'lebu', 'hofn', 'barcelos', 'tacoronte', 'saint-philippe', 'kihei', 'chapais', 'yumen', 'charters towers', 'esperance', 'tiksi', 'podporozhye', 'shaoyang', 'yulara', 'lutry', 'senneterre', 'kavieng', 'masindi', 'mahon', 'bluff', 'oistins', 'diego de almagro', 'tasiilaq', 'butaritari', 'dunedin', 'thompson', 'verkhnevilyuysk', 'hualmay', 'airai', 'bubaque', 'trois-rivieres', 'awbari', 'walvis bay', 'berdigestyakh', 'aklavik', 'moerai', 'carndonagh', 'grimari', 'port alfred', 'nizhneyansk', 'kavaratti', 'catuday', 'malakal', 'chuy', 'saint-joseph', 'guilin', 'clyde river', 'alpena', 'la asuncion', 'havoysund', 'te anau', 'huron', 'yekaterinoslavka', 'leningradskiy', 'ambon', 'palu', 'tevriz', 'bhatgaon', 'sept-iles', 'russellville', 'maple creek', 'port lincoln', 'mosetse', 'great falls', 'attawapiskat', 'grand river south east', 'pak phanang', 'mutis', 'barmer', 'santa vitoria do palmar', 'tortoli', 'nouakchott', 'san policarpo', 'abeche', 'namibe', 'nuevo progreso', 'barrow', 'tyazhinskiy', 'coruripe', 'marsa matruh', 'saint-francois', 'college', 'cherskiy', 'tilichiki', 'kahului', 'bastrop', 'sovetskiy', 'yawata', 'aleksandrovsk', 'hopelchen', 'labuhan', 'manzhouli', 'mount isa', 'loralai', 'lompoc', 'kutum', 'chau doc', 'tucuman', 'libreville', 'kiruna', 'broken hill', 'pontianak', 'flinders', 'nanortalik', 'muyezerskiy', 'nosy varika', 'katsuura', 'ayagoz', 'soto la marina', 'sinkat', 'richards bay', 'surt', 'savonlinna', 'sitka', 'kieta', 'praya', 'hambantota', 'alofi', 'sinnamary', 'vila velha', 'fort smith', 'asyut', 'ye', 'nieuw amsterdam', 'bambous virieux', 'kurchum', 'sulat', 'thinadhoo', 'ostersund', 'puerto narino', 'saint george', 'rodrigues alves', 'totness', 'mys shmidta', 'shihezi', 'tuatapere', 'dingle', 'mezen', 'miracema do tocantins', 'nemuro', 'la rioja', 'miyako', 'kissidougou', 'namatanai', 'palabuhanratu', 'nam som', 'wlodawa', 'coahuayana', 'moose factory', 'avera', 'korla', 'visby', 'nadym', 'urengoy', 'syamzha', 'tigil', 'constitucion', 'constantine', 'karamea', 'lasa', 'marienburg', 'chengde', 'nguiu', 'uralskiy', 'manicore', 'swift current', 'krasnoselkup', 'hasaki', 'salalah', 'galle', 'galgani', 'belushya guba', 'sukhobezvodnoye', 'kharp', 'margate', 'najran', 'san patricio', 'buraydah', 'muros', 'kaitangata', 'norman wells', 'ravar', 'belomorsk', 'lumeje', 'sarankhola', 'asau', 'viransehir', 'guerrero negro', 'selenginsk', 'bossangoa', 'changping', 'codrington', 'cabo san lucas', 'didsbury', 'mehamn', 'taylorville', 'poya', 'louisbourg', 'jieshi', 'maxixe', 'port macquarie', 'enterprise', 'coihueco', 'toora-khem', 'isabela', 'kralendijk', 'ahipara', 'christchurch', 'samusu', 'oneida', 'hvammstangi', 'south river', 'qaqortoq', 'bur gabo', 'hervey bay', 'quatre cocos', 'laguna', 'flin flon', 'tommot', 'adrar', 'vestmanna', 'satitoa', 'la ronge', 'okhotsk', 'biltine', 'liverpool', 'mareeba', 'roela', 'falun', 'westport', 'mercedes', 'road town', 'chagda', 'naze', 'camacupa', 'faanui', 'zhanatas', 'ulenje', 'palmer', 'rawson', 'olafsvik', 'dudingen', 'morant bay', 'hay river', 'la palma', 'sainte-rose', 'vao', 'maarianhamina', 'sola', 'kyren', 'ocampo', 'otradnoye', 'qom', 'kostomuksha', 'ancud', 'murray bridge', 'iberia', 'brownsburg', 'mataram', 'watertown', 'fortuna', 'porto novo', 'santa maria del oro', 'pungesti', 'estelle', 'atar', 'maloshuyka', 'juegang', 'ucluelet', 'mount gambier', 'natal', 'bonen', 'tanjong tokong', 'saint-augustin', 'troitskoye', 'kilindoni', 'dhupgari', 'ferrol', 'waynesboro', 'acarau', 'sri aman', 'razdolnoye', 'fort nelson', 'ilulissat', 'lae', 'saint anthony', 'owensboro', 'gat', 'klaksvik', 'half moon bay', 'kande', 'kaeo', 'burns lake', 'port hedland', 'igarka', 'littleton', 'iquique', 'toktogul', 'never', 'anamur', 'faya', 'banda aceh', 'caiaponia', 'tuy hoa', 'port blair', 'juneau', 'mlowo', 'harper', 'necochea', 'lodja', 'mtwara', 'caxito', 'mahudha', 'pisco', 'talbahat', 'salisbury', 'amapa', 'north bend', 'qabis', 'nelson bay', 'tanete', 'san cristobal', 'pontes e lacerda', 'terrace', 'novikovo', 'pangnirtung', 'isangel', 'amuntai', 'yerbogachen', 'santa cruz', 'bilibino', 'ternate', 'forbes', 'binga', 'katherine', 'marawi', 'norfolk', 'lillehammer', 'boa esperanca', 'yarmouth', 'gravdal', 'calama', 'soweto', 'sarkand', 'yeppoon', 'sioux lookout', 'nipawin', 'vojka', 'savannakhet', 'morondava', 'coquimbo', 'bhainsa', 'guayaramerin', 'thiruvananthapuram', 'marysville', 'batangafo', 'sucua', 'taksimo', 'jinchengjiang', 'anloga', 'mitsamiouli', 'comodoro rivadavia', 'saint-louis', 'mawlaik', 'osterburg', 'woodstock', 'mabaruma', 'bargal', 'gremyachye', 'igra', 'bouafle', 'celestun', 'belaya gora', 'karratha', 'mirnyy', 'semnan', 'nishihara', 'illapel', 'kupang', 'northam', 'tsihombe', 'iranshahr', 'agadir', 'sao filipe', 'osoyoos', 'kuhdasht', 'belle fourche', 'el alto', 'amberley', 'zyryanskoye', 'goderich', 'khor', 'noyabrsk', 'lagos', 'ongole', 'willmar', 'mnogovershinnyy', 'yaan', 'kushmurun', 'tateyama', 'rabat', 'barranquilla', 'skibbereen', 'kununurra', 'merano', 'tiangua', 'sur', 'moftinu mare', 'aberdeen', 'det udom', 'erzin', 'kingaroy', 'iringa', 'arman', 'marechal deodoro', 'portland', 'yaring', 'marcona', 'ilhabela', 'kurumoch', 'shingu', 'lorengau', 'mayumba', 'sarangani', 'puerto maldonado', 'kovur', 'pevek', 'magistralnyy', 'xuddur', 'kasulu', 'beidao', 'zafra', 'san fernando', 'arecibo', 'bandarbeyla', 'angoche', 'changli', 'sangin', 'parker', 'hohhot', 'saurimo', 'fort dodge', 'vyazniki', 'santa isabel', 'verkhnyaya toyma', 'joshimath', 'malamig', 'kruisfontein', 'talpa', 'xingyi', 'pembroke', 'poso', 'khandyga', 'kampong thum', 'inegol', 'muzhi', 'bjornevatn', 'chiredzi', 'berezovyy', 'alamosa', 'ust-ishim', 'yetholm', 'hirado', 'desbiens', 'megion']\n"
     ]
    }
   ],
   "source": [
    "# List for holding lat_lngs and cities\n",
    "lat_lngs = []\n",
    "cities = []\n",
    "\n",
    "# Create a set of random lat and lng combinations\n",
    "lats = np.random.uniform(low=-90.000, high=90.000, size=1500)\n",
    "lngs = np.random.uniform(low=-180.000, high=180.000, size=1500)\n",
    "lat_lngs = zip(lats, lngs)\n",
    "\n",
    "# Identify nearest city for each lat, lng combination\n",
    "for lat_lng in lat_lngs:\n",
    "    city = citipy.nearest_city(lat_lng[0], lat_lng[1]).city_name\n",
    "    \n",
    "    # If the city is unique, then add it to a our cities list\n",
    "    if city not in cities:\n",
    "        # Remove city names that contain numbers\n",
    "        [city for city in cities if all(digit not in city for digit in \"1234567890\")]\n",
    "        cities.append(city)\n",
    "\n",
    "# Print the city count to confirm sufficient count\n",
    "len(cities)\n",
    "print(cities)"
   ]
  },
  {
   "cell_type": "code",
   "execution_count": null,
   "metadata": {},
   "outputs": [],
   "source": []
  },
  {
   "cell_type": "code",
   "execution_count": 41,
   "metadata": {},
   "outputs": [
    {
     "data": {
      "text/html": [
       "<div>\n",
       "<style scoped>\n",
       "    .dataframe tbody tr th:only-of-type {\n",
       "        vertical-align: middle;\n",
       "    }\n",
       "\n",
       "    .dataframe tbody tr th {\n",
       "        vertical-align: top;\n",
       "    }\n",
       "\n",
       "    .dataframe thead th {\n",
       "        text-align: right;\n",
       "    }\n",
       "</style>\n",
       "<table border=\"1\" class=\"dataframe\">\n",
       "  <thead>\n",
       "    <tr style=\"text-align: right;\">\n",
       "      <th></th>\n",
       "      <th>City</th>\n",
       "      <th>Country</th>\n",
       "      <th>Max Temp</th>\n",
       "      <th>Cloudiness</th>\n",
       "      <th>Humidity</th>\n",
       "      <th>Wind Speed</th>\n",
       "      <th>Latitude</th>\n",
       "      <th>Longitude</th>\n",
       "      <th>Date</th>\n",
       "    </tr>\n",
       "  </thead>\n",
       "  <tbody>\n",
       "    <tr>\n",
       "      <th>0</th>\n",
       "      <td>dikson</td>\n",
       "      <td></td>\n",
       "      <td></td>\n",
       "      <td></td>\n",
       "      <td></td>\n",
       "      <td></td>\n",
       "      <td></td>\n",
       "      <td></td>\n",
       "      <td></td>\n",
       "    </tr>\n",
       "    <tr>\n",
       "      <th>1</th>\n",
       "      <td>qaanaaq</td>\n",
       "      <td></td>\n",
       "      <td></td>\n",
       "      <td></td>\n",
       "      <td></td>\n",
       "      <td></td>\n",
       "      <td></td>\n",
       "      <td></td>\n",
       "      <td></td>\n",
       "    </tr>\n",
       "    <tr>\n",
       "      <th>2</th>\n",
       "      <td>bellavista</td>\n",
       "      <td></td>\n",
       "      <td></td>\n",
       "      <td></td>\n",
       "      <td></td>\n",
       "      <td></td>\n",
       "      <td></td>\n",
       "      <td></td>\n",
       "      <td></td>\n",
       "    </tr>\n",
       "    <tr>\n",
       "      <th>3</th>\n",
       "      <td>baldeogarh</td>\n",
       "      <td></td>\n",
       "      <td></td>\n",
       "      <td></td>\n",
       "      <td></td>\n",
       "      <td></td>\n",
       "      <td></td>\n",
       "      <td></td>\n",
       "      <td></td>\n",
       "    </tr>\n",
       "    <tr>\n",
       "      <th>4</th>\n",
       "      <td>talnakh</td>\n",
       "      <td></td>\n",
       "      <td></td>\n",
       "      <td></td>\n",
       "      <td></td>\n",
       "      <td></td>\n",
       "      <td></td>\n",
       "      <td></td>\n",
       "      <td></td>\n",
       "    </tr>\n",
       "  </tbody>\n",
       "</table>\n",
       "</div>"
      ],
      "text/plain": [
       "         City Country Max Temp Cloudiness Humidity Wind Speed Latitude  \\\n",
       "0      dikson                                                            \n",
       "1     qaanaaq                                                            \n",
       "2  bellavista                                                            \n",
       "3  baldeogarh                                                            \n",
       "4     talnakh                                                            \n",
       "\n",
       "  Longitude Date  \n",
       "0                 \n",
       "1                 \n",
       "2                 \n",
       "3                 \n",
       "4                 "
      ]
     },
     "execution_count": 41,
     "metadata": {},
     "output_type": "execute_result"
    }
   ],
   "source": []
  },
  {
   "cell_type": "code",
   "execution_count": 46,
   "metadata": {},
   "outputs": [
    {
     "name": "stdout",
     "output_type": "stream",
     "text": [
      "Longitude: [80.55, -69.36, -104.88, 78.97, 88.39, 156.12, -73.76]\n",
      "598\n"
     ]
    }
   ],
   "source": [
    "# list for response results\n",
    "lat = []\n",
    "lon = []\n",
    "humidity = []\n",
    "temp_max = []\n",
    "wind = []\n",
    "cloudiness = []\n",
    "city_number = []\n",
    "city_name = []\n",
    "country = []\n",
    "date = []\n",
    "\n",
    "# loop through cities, make API request, and append desired results\n",
    "for city in cities[:7]:\n",
    "    response = requests.get(query_url + city).json()\n",
    "    try:\n",
    "        lon.append(response['coord']['lon'])\n",
    "        lat.append(response['coord']['lat'])\n",
    "        humidity.append(response['main']['humidity'])\n",
    "        temp_max.append(response['main']['temp_max'])\n",
    "        wind.append(response['wind']['speed'])\n",
    "        cloudiness.append(response['clouds']['all'])\n",
    "        city_number.append(response['weather'][0]['id'])\n",
    "        city_name.append(response['name'])\n",
    "        country.append(response['sys']['country'])\n",
    "        date.append(response['dt'])\n",
    "    except KeyError:\n",
    "        cities.remove(city)\n",
    "        \n",
    "print(f\"Longitude: {lon}\")\n"
   ]
  },
  {
   "cell_type": "code",
   "execution_count": 50,
   "metadata": {},
   "outputs": [
    {
     "name": "stdout",
     "output_type": "stream",
     "text": [
      "Cities: 598\n",
      "Lng 7\n",
      "Lat 7\n",
      "Hum 7\n",
      "temp 7\n",
      "wind 7\n",
      "cld 7\n",
      "# 7\n",
      "name 7\n",
      "country 7\n",
      "date 7\n"
     ]
    }
   ],
   "source": [
    "print('Cities:', len(cities))\n",
    "print('Lng', len(lon))\n",
    "print('Lat', len(lat))\n",
    "print('Hum', len(humidity))\n",
    "print('temp', len(temp_max))\n",
    "print('wind', len(wind))\n",
    "print('cld', len(cloudiness))\n",
    "print('#', len(city_number))\n",
    "print('name', len(city_name))\n",
    "print('country', len(country))\n",
    "print('date', len(date))"
   ]
  },
  {
   "cell_type": "code",
   "execution_count": 47,
   "metadata": {},
   "outputs": [
    {
     "ename": "ValueError",
     "evalue": "Length of values does not match length of index",
     "output_type": "error",
     "traceback": [
      "\u001b[0;31m---------------------------------------------------------------------------\u001b[0m",
      "\u001b[0;31mValueError\u001b[0m                                Traceback (most recent call last)",
      "\u001b[0;32m<ipython-input-47-e6e4a6091cc7>\u001b[0m in \u001b[0;36m<module>\u001b[0;34m\u001b[0m\n\u001b[1;32m      1\u001b[0m \u001b[0;31m# Create dataframe\u001b[0m\u001b[0;34m\u001b[0m\u001b[0;34m\u001b[0m\u001b[0;34m\u001b[0m\u001b[0m\n\u001b[1;32m      2\u001b[0m \u001b[0mcities_df\u001b[0m \u001b[0;34m=\u001b[0m \u001b[0mpd\u001b[0m\u001b[0;34m.\u001b[0m\u001b[0mDataFrame\u001b[0m\u001b[0;34m(\u001b[0m\u001b[0;34m{\u001b[0m\u001b[0;34m'City'\u001b[0m\u001b[0;34m:\u001b[0m \u001b[0mcities\u001b[0m\u001b[0;34m}\u001b[0m\u001b[0;34m)\u001b[0m\u001b[0;34m\u001b[0m\u001b[0;34m\u001b[0m\u001b[0m\n\u001b[0;32m----> 3\u001b[0;31m \u001b[0mcities_df\u001b[0m\u001b[0;34m[\u001b[0m\u001b[0;34m'Country'\u001b[0m\u001b[0;34m]\u001b[0m\u001b[0;34m=\u001b[0m \u001b[0mcountry\u001b[0m\u001b[0;34m\u001b[0m\u001b[0;34m\u001b[0m\u001b[0m\n\u001b[0m\u001b[1;32m      4\u001b[0m \u001b[0mcities_df\u001b[0m\u001b[0;34m[\u001b[0m\u001b[0;34m'Max Temp'\u001b[0m\u001b[0;34m]\u001b[0m\u001b[0;34m=\u001b[0m \u001b[0mtemp_max\u001b[0m\u001b[0;34m\u001b[0m\u001b[0;34m\u001b[0m\u001b[0m\n\u001b[1;32m      5\u001b[0m \u001b[0mcities_df\u001b[0m\u001b[0;34m[\u001b[0m\u001b[0;34m'Cloudiness'\u001b[0m\u001b[0;34m]\u001b[0m\u001b[0;34m=\u001b[0m \u001b[0mcloudiness\u001b[0m\u001b[0;34m\u001b[0m\u001b[0;34m\u001b[0m\u001b[0m\n",
      "\u001b[0;32m/anaconda3/lib/python3.7/site-packages/pandas/core/frame.py\u001b[0m in \u001b[0;36m__setitem__\u001b[0;34m(self, key, value)\u001b[0m\n\u001b[1;32m   3368\u001b[0m         \u001b[0;32melse\u001b[0m\u001b[0;34m:\u001b[0m\u001b[0;34m\u001b[0m\u001b[0;34m\u001b[0m\u001b[0m\n\u001b[1;32m   3369\u001b[0m             \u001b[0;31m# set column\u001b[0m\u001b[0;34m\u001b[0m\u001b[0;34m\u001b[0m\u001b[0;34m\u001b[0m\u001b[0m\n\u001b[0;32m-> 3370\u001b[0;31m             \u001b[0mself\u001b[0m\u001b[0;34m.\u001b[0m\u001b[0m_set_item\u001b[0m\u001b[0;34m(\u001b[0m\u001b[0mkey\u001b[0m\u001b[0;34m,\u001b[0m \u001b[0mvalue\u001b[0m\u001b[0;34m)\u001b[0m\u001b[0;34m\u001b[0m\u001b[0;34m\u001b[0m\u001b[0m\n\u001b[0m\u001b[1;32m   3371\u001b[0m \u001b[0;34m\u001b[0m\u001b[0m\n\u001b[1;32m   3372\u001b[0m     \u001b[0;32mdef\u001b[0m \u001b[0m_setitem_slice\u001b[0m\u001b[0;34m(\u001b[0m\u001b[0mself\u001b[0m\u001b[0;34m,\u001b[0m \u001b[0mkey\u001b[0m\u001b[0;34m,\u001b[0m \u001b[0mvalue\u001b[0m\u001b[0;34m)\u001b[0m\u001b[0;34m:\u001b[0m\u001b[0;34m\u001b[0m\u001b[0;34m\u001b[0m\u001b[0m\n",
      "\u001b[0;32m/anaconda3/lib/python3.7/site-packages/pandas/core/frame.py\u001b[0m in \u001b[0;36m_set_item\u001b[0;34m(self, key, value)\u001b[0m\n\u001b[1;32m   3443\u001b[0m \u001b[0;34m\u001b[0m\u001b[0m\n\u001b[1;32m   3444\u001b[0m         \u001b[0mself\u001b[0m\u001b[0;34m.\u001b[0m\u001b[0m_ensure_valid_index\u001b[0m\u001b[0;34m(\u001b[0m\u001b[0mvalue\u001b[0m\u001b[0;34m)\u001b[0m\u001b[0;34m\u001b[0m\u001b[0;34m\u001b[0m\u001b[0m\n\u001b[0;32m-> 3445\u001b[0;31m         \u001b[0mvalue\u001b[0m \u001b[0;34m=\u001b[0m \u001b[0mself\u001b[0m\u001b[0;34m.\u001b[0m\u001b[0m_sanitize_column\u001b[0m\u001b[0;34m(\u001b[0m\u001b[0mkey\u001b[0m\u001b[0;34m,\u001b[0m \u001b[0mvalue\u001b[0m\u001b[0;34m)\u001b[0m\u001b[0;34m\u001b[0m\u001b[0;34m\u001b[0m\u001b[0m\n\u001b[0m\u001b[1;32m   3446\u001b[0m         \u001b[0mNDFrame\u001b[0m\u001b[0;34m.\u001b[0m\u001b[0m_set_item\u001b[0m\u001b[0;34m(\u001b[0m\u001b[0mself\u001b[0m\u001b[0;34m,\u001b[0m \u001b[0mkey\u001b[0m\u001b[0;34m,\u001b[0m \u001b[0mvalue\u001b[0m\u001b[0;34m)\u001b[0m\u001b[0;34m\u001b[0m\u001b[0;34m\u001b[0m\u001b[0m\n\u001b[1;32m   3447\u001b[0m \u001b[0;34m\u001b[0m\u001b[0m\n",
      "\u001b[0;32m/anaconda3/lib/python3.7/site-packages/pandas/core/frame.py\u001b[0m in \u001b[0;36m_sanitize_column\u001b[0;34m(self, key, value, broadcast)\u001b[0m\n\u001b[1;32m   3628\u001b[0m \u001b[0;34m\u001b[0m\u001b[0m\n\u001b[1;32m   3629\u001b[0m             \u001b[0;31m# turn me into an ndarray\u001b[0m\u001b[0;34m\u001b[0m\u001b[0;34m\u001b[0m\u001b[0;34m\u001b[0m\u001b[0m\n\u001b[0;32m-> 3630\u001b[0;31m             \u001b[0mvalue\u001b[0m \u001b[0;34m=\u001b[0m \u001b[0msanitize_index\u001b[0m\u001b[0;34m(\u001b[0m\u001b[0mvalue\u001b[0m\u001b[0;34m,\u001b[0m \u001b[0mself\u001b[0m\u001b[0;34m.\u001b[0m\u001b[0mindex\u001b[0m\u001b[0;34m,\u001b[0m \u001b[0mcopy\u001b[0m\u001b[0;34m=\u001b[0m\u001b[0;32mFalse\u001b[0m\u001b[0;34m)\u001b[0m\u001b[0;34m\u001b[0m\u001b[0;34m\u001b[0m\u001b[0m\n\u001b[0m\u001b[1;32m   3631\u001b[0m             \u001b[0;32mif\u001b[0m \u001b[0;32mnot\u001b[0m \u001b[0misinstance\u001b[0m\u001b[0;34m(\u001b[0m\u001b[0mvalue\u001b[0m\u001b[0;34m,\u001b[0m \u001b[0;34m(\u001b[0m\u001b[0mnp\u001b[0m\u001b[0;34m.\u001b[0m\u001b[0mndarray\u001b[0m\u001b[0;34m,\u001b[0m \u001b[0mIndex\u001b[0m\u001b[0;34m)\u001b[0m\u001b[0;34m)\u001b[0m\u001b[0;34m:\u001b[0m\u001b[0;34m\u001b[0m\u001b[0;34m\u001b[0m\u001b[0m\n\u001b[1;32m   3632\u001b[0m                 \u001b[0;32mif\u001b[0m \u001b[0misinstance\u001b[0m\u001b[0;34m(\u001b[0m\u001b[0mvalue\u001b[0m\u001b[0;34m,\u001b[0m \u001b[0mlist\u001b[0m\u001b[0;34m)\u001b[0m \u001b[0;32mand\u001b[0m \u001b[0mlen\u001b[0m\u001b[0;34m(\u001b[0m\u001b[0mvalue\u001b[0m\u001b[0;34m)\u001b[0m \u001b[0;34m>\u001b[0m \u001b[0;36m0\u001b[0m\u001b[0;34m:\u001b[0m\u001b[0;34m\u001b[0m\u001b[0;34m\u001b[0m\u001b[0m\n",
      "\u001b[0;32m/anaconda3/lib/python3.7/site-packages/pandas/core/internals/construction.py\u001b[0m in \u001b[0;36msanitize_index\u001b[0;34m(data, index, copy)\u001b[0m\n\u001b[1;32m    517\u001b[0m \u001b[0;34m\u001b[0m\u001b[0m\n\u001b[1;32m    518\u001b[0m     \u001b[0;32mif\u001b[0m \u001b[0mlen\u001b[0m\u001b[0;34m(\u001b[0m\u001b[0mdata\u001b[0m\u001b[0;34m)\u001b[0m \u001b[0;34m!=\u001b[0m \u001b[0mlen\u001b[0m\u001b[0;34m(\u001b[0m\u001b[0mindex\u001b[0m\u001b[0;34m)\u001b[0m\u001b[0;34m:\u001b[0m\u001b[0;34m\u001b[0m\u001b[0;34m\u001b[0m\u001b[0m\n\u001b[0;32m--> 519\u001b[0;31m         \u001b[0;32mraise\u001b[0m \u001b[0mValueError\u001b[0m\u001b[0;34m(\u001b[0m\u001b[0;34m'Length of values does not match length of index'\u001b[0m\u001b[0;34m)\u001b[0m\u001b[0;34m\u001b[0m\u001b[0;34m\u001b[0m\u001b[0m\n\u001b[0m\u001b[1;32m    520\u001b[0m \u001b[0;34m\u001b[0m\u001b[0m\n\u001b[1;32m    521\u001b[0m     \u001b[0;32mif\u001b[0m \u001b[0misinstance\u001b[0m\u001b[0;34m(\u001b[0m\u001b[0mdata\u001b[0m\u001b[0;34m,\u001b[0m \u001b[0mABCIndexClass\u001b[0m\u001b[0;34m)\u001b[0m \u001b[0;32mand\u001b[0m \u001b[0;32mnot\u001b[0m \u001b[0mcopy\u001b[0m\u001b[0;34m:\u001b[0m\u001b[0;34m\u001b[0m\u001b[0;34m\u001b[0m\u001b[0m\n",
      "\u001b[0;31mValueError\u001b[0m: Length of values does not match length of index"
     ]
    }
   ],
   "source": [
    "# Create dataframe\n",
    "cities_df = pd.DataFrame({'City': cities})\n",
    "cities_df['Country']= country\n",
    "cities_df['Max Temp']= temp_max\n",
    "cities_df['Cloudiness']= cloudiness\n",
    "cities_df['Humidity']= humidity\n",
    "cities_df['Wind Speed']= wind\n",
    "cities_df['Latitude']= lat\n",
    "cities_df['Longitude']= lon\n",
    "cities_df['Date']= date\n",
    "\n",
    "cities_df.head()"
   ]
  },
  {
   "cell_type": "code",
   "execution_count": 40,
   "metadata": {},
   "outputs": [],
   "source": [
    "# Save dataframe to csv file\n",
    "cities_pd.to_csv(\"cities_python_api.csv\", encoding=\"utf-8\", index=False)"
   ]
  },
  {
   "cell_type": "code",
   "execution_count": null,
   "metadata": {},
   "outputs": [],
   "source": []
  },
  {
   "cell_type": "code",
   "execution_count": null,
   "metadata": {},
   "outputs": [],
   "source": []
  }
 ],
 "metadata": {
  "kernelspec": {
   "display_name": "Python 3",
   "language": "python",
   "name": "python3"
  },
  "language_info": {
   "codemirror_mode": {
    "name": "ipython",
    "version": 3
   },
   "file_extension": ".py",
   "mimetype": "text/x-python",
   "name": "python",
   "nbconvert_exporter": "python",
   "pygments_lexer": "ipython3",
   "version": "3.7.3"
  }
 },
 "nbformat": 4,
 "nbformat_minor": 2
}
